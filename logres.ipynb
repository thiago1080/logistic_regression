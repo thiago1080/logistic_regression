{
 "cells": [
  {
   "cell_type": "code",
   "execution_count": 11,
   "metadata": {},
   "outputs": [],
   "source": [
    "from sklearn import datasets\n",
    "import numpy as np\n",
    "\n",
    "iris = datasets.load_iris()\n"
   ]
  },
  {
   "cell_type": "code",
   "execution_count": 13,
   "metadata": {},
   "outputs": [],
   "source": [
    "iris.target = [0 if i == 0 else 1 for i in iris.target]"
   ]
  },
  {
   "cell_type": "code",
   "execution_count": 29,
   "metadata": {},
   "outputs": [],
   "source": [
    "X,y = iris.data, np.array(iris.target).reshape(-1, 1)"
   ]
  },
  {
   "cell_type": "code",
   "execution_count": 30,
   "metadata": {},
   "outputs": [
    {
     "data": {
      "text/plain": [
       "((150, 4), (150, 1))"
      ]
     },
     "execution_count": 30,
     "metadata": {},
     "output_type": "execute_result"
    }
   ],
   "source": [
    "X.shape, y.shape"
   ]
  },
  {
   "cell_type": "code",
   "execution_count": 33,
   "metadata": {},
   "outputs": [
    {
     "data": {
      "text/plain": [
       "((150, 5), (150, 1))"
      ]
     },
     "execution_count": 33,
     "metadata": {},
     "output_type": "execute_result"
    }
   ],
   "source": [
    "# add targets to x \n",
    "X = np.hstack((X, y))\n",
    "X.shape, y.shape"
   ]
  },
  {
   "cell_type": "code",
   "execution_count": 35,
   "metadata": {},
   "outputs": [],
   "source": [
    "# shuffle the data\n",
    "np.random.seed(42)\n",
    "np.random.shuffle(X)"
   ]
  },
  {
   "cell_type": "code",
   "execution_count": 38,
   "metadata": {},
   "outputs": [],
   "source": [
    "ds = X"
   ]
  },
  {
   "cell_type": "code",
   "execution_count": 39,
   "metadata": {},
   "outputs": [],
   "source": [
    "X,y = ds[:, :-1], ds[:, -1]"
   ]
  },
  {
   "cell_type": "code",
   "execution_count": 54,
   "metadata": {},
   "outputs": [
    {
     "name": "stdout",
     "output_type": "stream",
     "text": [
      "0 : losses[0][0] = 0.79\n",
      "1 : losses[0][0] = 0.79\n",
      "2 : losses[0][0] = 0.77\n",
      "3 : losses[0][0] = 0.76\n",
      "4 : losses[0][0] = 0.74\n",
      "5 : losses[0][0] = 0.71\n",
      "6 : losses[0][0] = 0.68\n",
      "7 : losses[0][0] = 0.65\n",
      "8 : losses[0][0] = 0.62\n",
      "9 : losses[0][0] = 0.59\n",
      "10 : losses[0][0] = 0.57\n",
      "11 : losses[0][0] = 0.55\n",
      "12 : losses[0][0] = 0.55\n",
      "13 : losses[0][0] = 0.56\n",
      "14 : losses[0][0] = 0.60\n",
      "15 : losses[0][0] = 0.66\n",
      "16 : losses[0][0] = 0.75\n",
      "17 : losses[0][0] = 0.87\n",
      "18 : losses[0][0] = 1.01\n",
      "19 : losses[0][0] = 1.17\n",
      "20 : losses[0][0] = 1.35\n",
      "21 : losses[0][0] = 1.53\n",
      "22 : losses[0][0] = 1.72\n",
      "23 : losses[0][0] = 1.90\n",
      "24 : losses[0][0] = 2.07\n",
      "25 : losses[0][0] = 2.24\n",
      "26 : losses[0][0] = 2.38\n",
      "27 : losses[0][0] = 2.51\n",
      "28 : losses[0][0] = 2.62\n",
      "29 : losses[0][0] = 2.71\n",
      "30 : losses[0][0] = 2.78\n",
      "31 : losses[0][0] = 2.82\n",
      "32 : losses[0][0] = 2.84\n",
      "33 : losses[0][0] = 2.84\n",
      "34 : losses[0][0] = 2.81\n",
      "35 : losses[0][0] = 2.76\n",
      "36 : losses[0][0] = 2.69\n",
      "37 : losses[0][0] = 2.60\n",
      "38 : losses[0][0] = 2.48\n",
      "39 : losses[0][0] = 2.35\n",
      "40 : losses[0][0] = 2.19\n",
      "41 : losses[0][0] = 2.03\n",
      "42 : losses[0][0] = 1.85\n",
      "43 : losses[0][0] = 1.67\n",
      "44 : losses[0][0] = 1.48\n",
      "45 : losses[0][0] = 1.30\n",
      "46 : losses[0][0] = 1.12\n",
      "47 : losses[0][0] = 0.96\n",
      "48 : losses[0][0] = 0.82\n",
      "49 : losses[0][0] = 0.70\n",
      "50 : losses[0][0] = 0.62\n",
      "51 : losses[0][0] = 0.56\n",
      "52 : losses[0][0] = 0.53\n",
      "53 : losses[0][0] = 0.52\n",
      "54 : losses[0][0] = 0.53\n",
      "55 : losses[0][0] = 0.55\n",
      "56 : losses[0][0] = 0.57\n",
      "57 : losses[0][0] = 0.60\n",
      "58 : losses[0][0] = 0.64\n",
      "59 : losses[0][0] = 0.67\n",
      "60 : losses[0][0] = 0.70\n",
      "61 : losses[0][0] = 0.73\n",
      "62 : losses[0][0] = 0.75\n",
      "63 : losses[0][0] = 0.77\n",
      "64 : losses[0][0] = 0.79\n",
      "65 : losses[0][0] = 0.80\n",
      "66 : losses[0][0] = 0.80\n",
      "67 : losses[0][0] = 0.79\n",
      "68 : losses[0][0] = 0.79\n",
      "69 : losses[0][0] = 0.77\n",
      "70 : losses[0][0] = 0.75\n",
      "71 : losses[0][0] = 0.73\n",
      "72 : losses[0][0] = 0.70\n",
      "73 : losses[0][0] = 0.67\n",
      "74 : losses[0][0] = 0.64\n",
      "75 : losses[0][0] = 0.62\n",
      "76 : losses[0][0] = 0.59\n",
      "77 : losses[0][0] = 0.58\n",
      "78 : losses[0][0] = 0.58\n",
      "79 : losses[0][0] = 0.59\n",
      "80 : losses[0][0] = 0.63\n",
      "81 : losses[0][0] = 0.70\n",
      "82 : losses[0][0] = 0.79\n",
      "83 : losses[0][0] = 0.91\n",
      "84 : losses[0][0] = 1.06\n",
      "85 : losses[0][0] = 1.22\n",
      "86 : losses[0][0] = 1.40\n",
      "87 : losses[0][0] = 1.58\n",
      "88 : losses[0][0] = 1.76\n",
      "89 : losses[0][0] = 1.94\n",
      "90 : losses[0][0] = 2.11\n",
      "91 : losses[0][0] = 2.27\n",
      "92 : losses[0][0] = 2.41\n",
      "93 : losses[0][0] = 2.53\n",
      "94 : losses[0][0] = 2.64\n",
      "95 : losses[0][0] = 2.72\n",
      "96 : losses[0][0] = 2.78\n",
      "97 : losses[0][0] = 2.82\n",
      "98 : losses[0][0] = 2.84\n",
      "99 : losses[0][0] = 2.83\n",
      "100 : losses[0][0] = 2.79\n",
      "101 : losses[0][0] = 2.74\n",
      "102 : losses[0][0] = 2.66\n",
      "103 : losses[0][0] = 2.56\n",
      "104 : losses[0][0] = 2.44\n",
      "105 : losses[0][0] = 2.30\n",
      "106 : losses[0][0] = 2.15\n",
      "107 : losses[0][0] = 1.98\n",
      "108 : losses[0][0] = 1.80\n",
      "109 : losses[0][0] = 1.61\n",
      "110 : losses[0][0] = 1.43\n",
      "111 : losses[0][0] = 1.24\n",
      "112 : losses[0][0] = 1.07\n",
      "113 : losses[0][0] = 0.91\n",
      "114 : losses[0][0] = 0.77\n",
      "115 : losses[0][0] = 0.67\n",
      "116 : losses[0][0] = 0.58\n",
      "117 : losses[0][0] = 0.53\n",
      "118 : losses[0][0] = 0.51\n",
      "119 : losses[0][0] = 0.50\n",
      "losses = array([[0.49971197]])\n",
      "w = array([[-0.04891549],\n",
      "       [ 0.10475901],\n",
      "       [ 0.17114172],\n",
      "       [ 0.31985975]])\n",
      "b = array([[0.41359247]])\n"
     ]
    }
   ],
   "source": [
    "\n",
    "def linear(x,w,b):\n",
    "    lin = np.dot(x.T, w) + b\n",
    "    #print(f'{lin.shape = }')\n",
    "    return lin\n",
    "def sigmoid(z):\n",
    "    sig = 1 / (1 + np.exp(-z))\n",
    "    #print(f'{sig.shape = }')\n",
    "    return sig\n",
    "def a(x,w,b):\n",
    "    return sigmoid(linear(x,w,b))\n",
    "def cross_entropy_loss(y_true, y_pred):\n",
    "    return - (y_true * np.log(y_pred) + (1 - y_true) * np.log(1 - y_pred))\n",
    "def dz(x,w,b, y):\n",
    "    return a(x,w,b)-y\n",
    "def dw(w,b,x,y):\n",
    "    #print(f'{x.shape = }')\n",
    "    #print(f'{w.shape = }')\n",
    "    #print(f'{b.shape = }')\n",
    "    #print(f'{y.shape = }')\n",
    "    dz_ = dz(x,w,b,y)\n",
    "    #print(f'{dz_.shape = }')\n",
    "    dw_ = x.T * dz_\n",
    "    #print(f'{dw_ = }')\n",
    "    return dw_\n",
    "def db(w,b,x,y):\n",
    "    return dz(x,w,b,y).T\n",
    "def gradient_descent_step(w,b,alpha, x,y):\n",
    "    #print(w.shape)\n",
    "    #print(x.shape)\n",
    "    #print(y.shape)\n",
    "\n",
    "    termo =  dw(w,b,x,y)*alpha\n",
    "    #print(f'{termo.shape = }')\n",
    "    tmp_w = w - termo.reshape(4,1)\n",
    "    tmp_b = b - db(w,b,x,y) * alpha\n",
    "    #print(f'{tmp_w = }')\n",
    "    #print(f'{tmp_b = }')\n",
    "    return tmp_w,tmp_b\n",
    "# x = np.linspace(0, 1, 5)\n",
    "# y = 3 * x + 2 + np.random.randn(5) * 0.1\n",
    "# Ensure matplotlib is installed\n",
    "w = np.array([[0.1], [0.2], [0.3], [0.4]])\n",
    "b = np.array([[0.5]])\n",
    "alpha = 0.01\n",
    "sum_w = np.array([[0.0], [0.0], [0.0], [0.0]])\n",
    "sum_b = np.array([[0.0]])\n",
    "for epoch in range(10000):\n",
    "    losses = 0  # Reset losses at the start of each epoch\n",
    "    for i in range(len(X)):\n",
    "        losses += cross_entropy_loss(y[i], a(X[i].reshape(-1, 1), w, b))\n",
    "        w_, b_ = gradient_descent_step(w, b, alpha, X[i].reshape(-1, 1), y[i].reshape(1, 1))\n",
    "        sum_w += w_\n",
    "        sum_b += b_\n",
    "    losses /= len(X)\n",
    "    print(f'{epoch} : {losses[0][0] = :.2f}')\n",
    "    w_ = sum_w / len(X)\n",
    "    b_ = sum_b / len(X)\n",
    "    w = w - w_ * alpha\n",
    "    b = b - b_ * alpha\n",
    "    if losses < 0.5:\n",
    "        break\n",
    "print(f'{losses = }')\n",
    "print(f'{w = }')\n",
    "print(f'{b = }')\n"
   ]
  },
  {
   "cell_type": "code",
   "execution_count": null,
   "metadata": {},
   "outputs": [],
   "source": [
    "def classify(x,w,b):\n",
    "    pred = a(x,w,b)\n",
    "    pred = np.where(pred > 0.5, 1, 0)\n",
    "    return pred\n",
    "for x in iris.data:\n",
    "    pred = classify(x, w, b)\n",
    "    print(f'Predicted: {pred}, Actual: {iris.target[iris.data.tolist().index(x.tolist())]}')"
   ]
  }
 ],
 "metadata": {
  "kernelspec": {
   "display_name": "ds",
   "language": "python",
   "name": "python3"
  },
  "language_info": {
   "codemirror_mode": {
    "name": "ipython",
    "version": 3
   },
   "file_extension": ".py",
   "mimetype": "text/x-python",
   "name": "python",
   "nbconvert_exporter": "python",
   "pygments_lexer": "ipython3",
   "version": "3.12.0"
  }
 },
 "nbformat": 4,
 "nbformat_minor": 2
}
